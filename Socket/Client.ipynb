{
 "cells": [
  {
   "cell_type": "code",
   "execution_count": 8,
   "metadata": {},
   "outputs": [],
   "source": [
    "import sys\n",
    "from socket import socket, AF_INET, SOCK_DGRAM, SOCK_STREAM\n",
    "import cv2\n",
    "import time\n",
    "import pickle"
   ]
  },
  {
   "cell_type": "code",
   "execution_count": 9,
   "metadata": {},
   "outputs": [],
   "source": [
    "def pad(img):\n",
    "    max_size = max(img.shape)\n",
    "    top = int((max_size-img.shape[0])/2)\n",
    "    bot = int((max_size-img.shape[0])/2)\n",
    "    left = int((max_size-img.shape[1])/2)\n",
    "    right = int((max_size-img.shape[1])/2)\n",
    "    return cv2.copyMakeBorder(img, top, bot, left, right, cv2.BORDER_CONSTANT, None, value = 0)\n",
    "\n",
    "def center_crop(img):\n",
    "    center = img.shape\n",
    "    w = 224\n",
    "    h = 224\n",
    "    x = center[1]/2 - w/2\n",
    "    y = center[0]/2 - h/2\n",
    "\n",
    "    return img[int(y):int(y+h), int(x):int(x+w)]"
   ]
  },
  {
   "cell_type": "code",
   "execution_count": 10,
   "metadata": {},
   "outputs": [],
   "source": [
    "def send_frame(data, prev, flag):\n",
    "    host = 'localhost'\n",
    "    server = (host, 4000)\n",
    "    sock = socket(AF_INET, SOCK_STREAM)\n",
    "    sock.connect(server)\n",
    "\n",
    "    data_string = pickle.dumps(data)\n",
    "    flag = bytes(str(flag), 'utf-8')\n",
    "    try:\n",
    "        sock.sendall(flag)\n",
    "        data = sock.recv(1024)\n",
    "        if data != ' ' and data != prev:\n",
    "            print(sys.stderr, data)\n",
    "        \n",
    "        #print(sys.stderr, 'sending data')\n",
    "        sock.sendall(data_string)\n",
    "    finally:\n",
    "        #print(sys.stderr, 'closing socket')\n",
    "        sock.close()\n",
    "        \n",
    "    return data"
   ]
  },
  {
   "cell_type": "code",
   "execution_count": 12,
   "metadata": {
    "scrolled": true
   },
   "outputs": [
    {
     "name": "stdout",
     "output_type": "stream",
     "text": [
      "<ipykernel.iostream.OutStream object at 0x00000207FE722970> b' '\n",
      "<ipykernel.iostream.OutStream object at 0x00000207FE722970> b'family'\n",
      "<ipykernel.iostream.OutStream object at 0x00000207FE722970> b'help'\n",
      "<ipykernel.iostream.OutStream object at 0x00000207FE722970> b'book'\n",
      "<ipykernel.iostream.OutStream object at 0x00000207FE722970> b'cook'\n",
      "<ipykernel.iostream.OutStream object at 0x00000207FE722970> b'computer'\n",
      "<ipykernel.iostream.OutStream object at 0x00000207FE722970> b'table'\n",
      "<ipykernel.iostream.OutStream object at 0x00000207FE722970> b'chair'\n",
      "<ipykernel.iostream.OutStream object at 0x00000207FE722970> b'enjoy'\n",
      "<ipykernel.iostream.OutStream object at 0x00000207FE722970> b'yes'\n",
      "<ipykernel.iostream.OutStream object at 0x00000207FE722970> b'no'\n",
      "<ipykernel.iostream.OutStream object at 0x00000207FE722970> b'city'\n",
      "<ipykernel.iostream.OutStream object at 0x00000207FE722970> b'go'\n",
      "<ipykernel.iostream.OutStream object at 0x00000207FE722970> b'walk'\n",
      "<ipykernel.iostream.OutStream object at 0x00000207FE722970> b'deaf'\n",
      "Time spent:  13.4333815574646\n"
     ]
    }
   ],
   "source": [
    "start = time.time()\n",
    "\n",
    "#cap = cv2.VideoCapture(0)\n",
    "prev_word = \" \"\n",
    "cap = cv2.VideoCapture('Demo.mp4')\n",
    "\n",
    "f = 0\n",
    "\n",
    "while cap.isOpened():\n",
    "\n",
    "    # Read feed\n",
    "    ret, frame = cap.read()\n",
    "    \n",
    "    if ret == 0:\n",
    "        prev_word = send_frame(frame, prev_word, 0)\n",
    "        break\n",
    "        \n",
    "    output_frame = frame.copy()\n",
    "\n",
    "    if f%2==0:\n",
    "        frame = pad(frame)\n",
    "        frame = cv2.resize(frame, dsize=(256, 256))\n",
    "        frame = center_crop(frame)\n",
    "\n",
    "        frame = (frame / 255.) * 2 - 1\n",
    "        \n",
    "        prev_word = send_frame(frame, prev_word, 1)\n",
    "     \n",
    "    f += 1\n",
    "    cv2.imshow('frame', output_frame)\n",
    "    cv2.waitKey(1)\n",
    "    \n",
    "cap.release()\n",
    "cv2.destroyAllWindows()\n",
    "\n",
    "end = time.time()\n",
    "print('Time spent: ', end - start)"
   ]
  },
  {
   "cell_type": "code",
   "execution_count": 7,
   "metadata": {},
   "outputs": [],
   "source": [
    "cv2.destroyAllWindows()"
   ]
  },
  {
   "cell_type": "code",
   "execution_count": null,
   "metadata": {},
   "outputs": [],
   "source": [
    "cv2.imshow('frame', frame)\n",
    "if cv2.waitKey(0) & 0xFF == ord('q'):\n",
    "    cv2.destroyAllWindows()"
   ]
  },
  {
   "cell_type": "code",
   "execution_count": 65,
   "metadata": {},
   "outputs": [],
   "source": [
    "cv2.destroyAllWindows()"
   ]
  },
  {
   "cell_type": "code",
   "execution_count": 58,
   "metadata": {},
   "outputs": [],
   "source": [
    "import matplotlib.pyplot as plt"
   ]
  },
  {
   "cell_type": "code",
   "execution_count": 19,
   "metadata": {},
   "outputs": [
    {
     "data": {
      "text/plain": [
       "[4, 5]"
      ]
     },
     "execution_count": 19,
     "metadata": {},
     "output_type": "execute_result"
    }
   ],
   "source": [
    "arr[-2:]"
   ]
  },
  {
   "cell_type": "code",
   "execution_count": 1,
   "metadata": {},
   "outputs": [],
   "source": [
    "strr = b'hi'"
   ]
  },
  {
   "cell_type": "code",
   "execution_count": 5,
   "metadata": {},
   "outputs": [
    {
     "data": {
      "text/plain": [
       "'hi'"
      ]
     },
     "execution_count": 5,
     "metadata": {},
     "output_type": "execute_result"
    }
   ],
   "source": [
    "strr = strr.decode()\n",
    "strr"
   ]
  },
  {
   "cell_type": "code",
   "execution_count": 3,
   "metadata": {},
   "outputs": [],
   "source": [
    "# in_file = open(\"book.mp4\", \"rb\") # opening for [r]eading as [b]inary\n",
    "# data = in_file.read()"
   ]
  },
  {
   "cell_type": "code",
   "execution_count": 2,
   "metadata": {},
   "outputs": [],
   "source": [
    "# host = 'localhost'\n",
    "# server = (host, 4000)\n",
    "\n",
    "# sock = socket(AF_INET, SOCK_STREAM)\n",
    "\n",
    "# print(sys.stderr, 'connecting to %s port %s' % server)\n",
    "# sock.connect(server)"
   ]
  }
 ],
 "metadata": {
  "kernelspec": {
   "display_name": "Python 3 (ipykernel)",
   "language": "python",
   "name": "python3"
  },
  "language_info": {
   "codemirror_mode": {
    "name": "ipython",
    "version": 3
   },
   "file_extension": ".py",
   "mimetype": "text/x-python",
   "name": "python",
   "nbconvert_exporter": "python",
   "pygments_lexer": "ipython3",
   "version": "3.8.0"
  }
 },
 "nbformat": 4,
 "nbformat_minor": 4
}
