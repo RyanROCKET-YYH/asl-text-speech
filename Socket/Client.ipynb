{
 "cells": [
  {
   "cell_type": "code",
   "execution_count": 1,
   "metadata": {},
   "outputs": [],
   "source": [
    "import sys\n",
    "from socket import socket, AF_INET, SOCK_DGRAM, SOCK_STREAM\n",
    "import cv2\n",
    "import time\n",
    "import pickle\n",
    "import numpy as np"
   ]
  },
  {
   "cell_type": "code",
   "execution_count": 2,
   "metadata": {},
   "outputs": [],
   "source": [
    "def pad(img):\n",
    "    max_size = max(img.shape)\n",
    "    top = int((max_size-img.shape[0])/2)\n",
    "    bot = int((max_size-img.shape[0])/2)\n",
    "    left = int((max_size-img.shape[1])/2)\n",
    "    right = int((max_size-img.shape[1])/2)\n",
    "    return cv2.copyMakeBorder(img, top, bot, left, right, cv2.BORDER_CONSTANT, None, value = 0)\n",
    "\n",
    "def center_crop(img):\n",
    "    center = img.shape\n",
    "    w = 224\n",
    "    h = 224\n",
    "    x = center[1]/2 - w/2\n",
    "    y = center[0]/2 - h/2\n",
    "\n",
    "    return img[int(y):int(y+h), int(x):int(x+w)]"
   ]
  },
  {
   "cell_type": "code",
   "execution_count": 3,
   "metadata": {},
   "outputs": [],
   "source": [
    "def send_frame(data, prev, flag):\n",
    "    host = '192.168.0.13'\n",
    "    server = (host, 4000)\n",
    "    sock = socket(AF_INET, SOCK_STREAM)\n",
    "    sock.connect(server)\n",
    "    \n",
    "    if(flag == 0):\n",
    "        data_string = bytes(str(0), 'utf-8')\n",
    "    else:\n",
    "        data = cv2.imencode('.jpg', data)[1]\n",
    "        data_string = np.array(data).tobytes()\n",
    "\n",
    "    flag = bytes(str(flag), 'utf-8')\n",
    "    try:\n",
    "        sock.sendall(flag)\n",
    "        data = sock.recv(1024)\n",
    "        if data != ' ' and data != prev:\n",
    "            print(sys.stderr, data)\n",
    "        \n",
    "        #print(sys.stderr, 'sending data')\n",
    "        sock.sendall(data_string)\n",
    "    finally:\n",
    "        #print(sys.stderr, 'closing socket')\n",
    "        sock.close()\n",
    "        \n",
    "    return data"
   ]
  },
  {
   "cell_type": "code",
   "execution_count": 7,
   "metadata": {
    "scrolled": true
   },
   "outputs": [
    {
     "name": "stdout",
     "output_type": "stream",
     "text": [
      "<ipykernel.iostream.OutStream object at 0x0000029B0EC8C730> b' '\n",
      "<ipykernel.iostream.OutStream object at 0x0000029B0EC8C730> b'family'\n",
      "<ipykernel.iostream.OutStream object at 0x0000029B0EC8C730> b'help'\n",
      "<ipykernel.iostream.OutStream object at 0x0000029B0EC8C730> b'book'\n",
      "<ipykernel.iostream.OutStream object at 0x0000029B0EC8C730> b'cook'\n",
      "<ipykernel.iostream.OutStream object at 0x0000029B0EC8C730> b'table'\n",
      "<ipykernel.iostream.OutStream object at 0x0000029B0EC8C730> b'chair'\n",
      "<ipykernel.iostream.OutStream object at 0x0000029B0EC8C730> b'enjoy'\n",
      "<ipykernel.iostream.OutStream object at 0x0000029B0EC8C730> b'yes'\n",
      "<ipykernel.iostream.OutStream object at 0x0000029B0EC8C730> b'no'\n",
      "<ipykernel.iostream.OutStream object at 0x0000029B0EC8C730> b'city'\n",
      "<ipykernel.iostream.OutStream object at 0x0000029B0EC8C730> b'go'\n",
      "<ipykernel.iostream.OutStream object at 0x0000029B0EC8C730> b'walk'\n",
      "<ipykernel.iostream.OutStream object at 0x0000029B0EC8C730> b'deaf'\n",
      "<ipykernel.iostream.OutStream object at 0x0000029B0EC8C730> b''\n",
      "Time spent:  30.873892784118652\n"
     ]
    }
   ],
   "source": [
    "start = time.time()\n",
    "\n",
    "#cap = cv2.VideoCapture(0)\n",
    "prev_word = \" \"\n",
    "cap = cv2.VideoCapture('Demo_crop.mp4')\n",
    "\n",
    "while cap.isOpened():\n",
    "\n",
    "    # Read feed\n",
    "    ret, frame = cap.read()\n",
    "\n",
    "    if ret == 0:\n",
    "        prev_word = send_frame(frame, prev_word, 0)\n",
    "        break\n",
    "        \n",
    "    output_frame = frame.copy()\n",
    "\n",
    "    frame = pad(frame)\n",
    "    frame = cv2.resize(frame, dsize=(256, 256))\n",
    "    frame = center_crop(frame)\n",
    "\n",
    "    prev_word = send_frame(frame, prev_word, 1)\n",
    "     \n",
    "    cv2.imshow('frame', output_frame)\n",
    "    cv2.waitKey(1)\n",
    "    \n",
    "cap.release()\n",
    "cv2.destroyAllWindows()\n",
    "\n",
    "end = time.time()\n",
    "print('Time spent: ', end - start)"
   ]
  },
  {
   "cell_type": "code",
   "execution_count": null,
   "metadata": {},
   "outputs": [],
   "source": []
  }
 ],
 "metadata": {
  "kernelspec": {
   "display_name": "Python 3",
   "language": "python",
   "name": "python3"
  },
  "language_info": {
   "codemirror_mode": {
    "name": "ipython",
    "version": 3
   },
   "file_extension": ".py",
   "mimetype": "text/x-python",
   "name": "python",
   "nbconvert_exporter": "python",
   "pygments_lexer": "ipython3",
   "version": "3.8.5"
  }
 },
 "nbformat": 4,
 "nbformat_minor": 4
}
